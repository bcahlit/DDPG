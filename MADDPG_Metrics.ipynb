{
 "cells": [
  {
   "cell_type": "code",
   "execution_count": 9,
   "metadata": {
    "collapsed": true
   },
   "outputs": [],
   "source": [
    "import numpy as np\n",
    "import matplotlib.pyplot as plt\n",
    "from scipy import signal\n",
    "import h5py\n",
    "%matplotlib inline"
   ]
  },
  {
   "cell_type": "code",
   "execution_count": 10,
   "metadata": {
    "collapsed": true
   },
   "outputs": [],
   "source": [
    "f = h5py.File(\"logging/logs1.txt\", 'r', libver='latest', swmr=True)\n",
    "move_q =  f['statistics'][\"ep_move_q\"][:]\n",
    "kick_q =  f['statistics'][\"ep_kick_q\"][:]\n",
    "turn_q = f['statistics'][\"ep_turn_q\"][:]\n",
    "tackle_q =  f['statistics'][\"ep_tackle_q\"][:]\n",
    "\n",
    "r=  f['statistics'][\"ep_reward\"][:]\n",
    "closs = f['statistics'][\"ep_closs\"][:]\n",
    "aloss= f['statistics'][\"ep_aloss\"][:]"
   ]
  },
  {
   "cell_type": "code",
   "execution_count": 11,
   "metadata": {
    "collapsed": false
   },
   "outputs": [
    {
     "data": {
      "image/png": "[encoded data removed]",
      "text/plain": [
       "<matplotlib.figure.Figure at 0x10aa98e10>"
      ]
     },
     "metadata": {},
     "output_type": "display_data"
    }
   ],
   "source": [
    "### TODO: ANSHUL\n",
    "### Due to how H5 works, the full log is populated with 0s, and is filled up as training happens\n",
    "### Write something to just automatically cutoff when everything goes to 0 and plot only stuff before\n",
    "r = r[:, :20]\n",
    "\n",
    "r1 = r[0]\n",
    "r2 = r[1]\n",
    "    \n",
    "plt.plot(r1, linestyle=\"\", marker=\".\")\n",
    "plt.plot(r2, linestyle=\"\", marker=\".\")\n",
    "\n",
    "plt.title(\"Reward (No Goalie)\")\n",
    "plt.xlabel(\"Episode\")\n",
    "plt.ylabel(\"Reward\")\n",
    "plt.show()"
   ]
  },
  {
   "cell_type": "code",
   "execution_count": 12,
   "metadata": {
    "collapsed": true
   },
   "outputs": [],
   "source": [
    "### TODO: ANSHUL\n",
    "### Plot all the other stuff similarly to the one above"
   ]
  },
  {
   "cell_type": "code",
   "execution_count": null,
   "metadata": {
    "collapsed": true
   },
   "outputs": [],
   "source": []
  }
 ],
 "metadata": {
  "kernelspec": {
   "display_name": "Python [conda env:py27]",
   "language": "python",
   "name": "conda-env-py27-py"
  },
  "language_info": {
   "codemirror_mode": {
    "name": "ipython",
    "version": 2
   },
   "file_extension": ".py",
   "mimetype": "text/x-python",
   "name": "python",
   "nbconvert_exporter": "python",
   "pygments_lexer": "ipython2",
   "version": "2.7.12"
  }
 },
 "nbformat": 4,
 "nbformat_minor": 1
}
